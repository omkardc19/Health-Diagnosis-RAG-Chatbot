{
 "cells": [
  {
   "cell_type": "code",
   "execution_count": 2,
   "metadata": {},
   "outputs": [],
   "source": [
    "import pandas as pd\n",
    "from langchain import PromptTemplate\n",
    "import bs4\n",
    "from langchain import hub\n",
    "from langchain_core.output_parsers import StrOutputParser\n",
    "from langchain_core.runnables import RunnablePassthrough\n",
    "from langchain_text_splitters import RecursiveCharacterTextSplitter\n",
    "from langchain_community.document_loaders.csv_loader import CSVLoader\n",
    "from langchain_text_splitters import RecursiveCharacterTextSplitter\n",
    "from langchain_google_genai import GoogleGenerativeAIEmbeddings\n",
    "from langchain_pinecone import PineconeVectorStore\n",
    "from langchain_google_genai import ChatGoogleGenerativeAI\n",
    "import os\n",
    "import google.generativeai as genai\n",
    "from langchain_community.document_loaders import DirectoryLoader"
   ]
  },
  {
   "cell_type": "code",
   "execution_count": 4,
   "metadata": {},
   "outputs": [
    {
     "data": {
      "text/plain": [
       "True"
      ]
     },
     "execution_count": 4,
     "metadata": {},
     "output_type": "execute_result"
    }
   ],
   "source": [
    "from dotenv import load_dotenv\n",
    "import os\n",
    "\n",
    "load_dotenv()"
   ]
  },
  {
   "cell_type": "code",
   "execution_count": 5,
   "metadata": {},
   "outputs": [],
   "source": [
    "GOOGLE_API_KEY = os.getenv('GOOGLE_API_KEY')\n",
    "PINECONE_API_KEY = os.getenv('PINECONE_API_KEY')\n",
    "INDEX_NAME = os.getenv('INDEX_NAME')"
   ]
  },
  {
   "cell_type": "code",
   "execution_count": 7,
   "metadata": {},
   "outputs": [],
   "source": [
    "def load_csv(data_directory):\n",
    "    # Use DirectoryLoader to load all CSV files from the specified directory\n",
    "    loader = DirectoryLoader(\n",
    "        data_directory,\n",
    "        glob=\"*.csv\",        # Pattern to match CSV files\n",
    "        loader_cls=CSVLoader # Use CSVLoader to load the files\n",
    "    )\n",
    "    \n",
    "    # Load the documents\n",
    "    documents = loader.load()\n",
    "\n",
    "    return documents"
   ]
  },
  {
   "cell_type": "code",
   "execution_count": 74,
   "metadata": {},
   "outputs": [],
   "source": [
    "extracted_data= load_csv(\"data/\")"
   ]
  },
  {
   "cell_type": "code",
   "execution_count": 76,
   "metadata": {},
   "outputs": [
    {
     "name": "stdout",
     "output_type": "stream",
     "text": [
      ": 0\n",
      "label: Psoriasis\n",
      "text: I have been experiencing a skin rash on my arms, legs, and torso for the past few weeks. It is red, itchy, and covered in dry, scaly patches.\n"
     ]
    }
   ],
   "source": [
    "print(extracted_data[0].page_content)"
   ]
  },
  {
   "cell_type": "code",
   "execution_count": 77,
   "metadata": {},
   "outputs": [
    {
     "data": {
      "text/plain": [
       "2"
      ]
     },
     "execution_count": 77,
     "metadata": {},
     "output_type": "execute_result"
    }
   ],
   "source": [
    "len(extracted_data)"
   ]
  },
  {
   "cell_type": "code",
   "execution_count": 8,
   "metadata": {},
   "outputs": [],
   "source": [
    "def text_split(extracted_data):\n",
    "    # Initialize the text splitter with desired chunk size and overlap\n",
    "      text_splitter = RecursiveCharacterTextSplitter(chunk_size=1000, chunk_overlap=200, add_start_index=True)\n",
    "    \n",
    "    \n",
    "    # Split the extracted data into text chunks\n",
    "      all_splits = text_splitter.split_documents(extracted_data)\n",
    "\n",
    "      return all_splits"
   ]
  },
  {
   "cell_type": "code",
   "execution_count": 79,
   "metadata": {},
   "outputs": [],
   "source": [
    "text_splits = text_split(extracted_data)"
   ]
  },
  {
   "cell_type": "code",
   "execution_count": 80,
   "metadata": {},
   "outputs": [
    {
     "data": {
      "text/plain": [
       "2"
      ]
     },
     "execution_count": 80,
     "metadata": {},
     "output_type": "execute_result"
    }
   ],
   "source": [
    "len(text_splits)"
   ]
  },
  {
   "cell_type": "code",
   "execution_count": 81,
   "metadata": {},
   "outputs": [
    {
     "data": {
      "text/plain": [
       "': 0\\nlabel: Psoriasis\\ntext: I have been experiencing a skin rash on my arms, legs, and torso for the past few weeks. It is red, itchy, and covered in dry, scaly patches.'"
      ]
     },
     "execution_count": 81,
     "metadata": {},
     "output_type": "execute_result"
    }
   ],
   "source": [
    "text_splits[0].page_content"
   ]
  },
  {
   "cell_type": "code",
   "execution_count": 98,
   "metadata": {},
   "outputs": [
    {
     "data": {
      "text/plain": [
       "list"
      ]
     },
     "execution_count": 98,
     "metadata": {},
     "output_type": "execute_result"
    }
   ],
   "source": [
    "type(text_splits)"
   ]
  },
  {
   "cell_type": "code",
   "execution_count": null,
   "metadata": {},
   "outputs": [],
   "source": []
  },
  {
   "cell_type": "code",
   "execution_count": 7,
   "metadata": {},
   "outputs": [],
   "source": [
    "def download_google_embeddings():\n",
    "    GOOGLE_API_KEY = os.getenv('GOOGLE_API_KEY')\n",
    "    # Initialize the Google Generative AI Embeddings model\n",
    "    embeddings = GoogleGenerativeAIEmbeddings(model=\"models/embedding-001\")\n",
    "                                        \n",
    "    return embeddings"
   ]
  },
  {
   "cell_type": "code",
   "execution_count": 8,
   "metadata": {},
   "outputs": [],
   "source": [
    "embeddings= download_google_embeddings()"
   ]
  },
  {
   "cell_type": "code",
   "execution_count": 9,
   "metadata": {},
   "outputs": [
    {
     "data": {
      "text/plain": [
       "GoogleGenerativeAIEmbeddings(client=<google.ai.generativelanguage_v1beta.services.generative_service.client.GenerativeServiceClient object at 0x00000289E375D430>, model='models/embedding-001', task_type=None, google_api_key=None, credentials=None, client_options=None, transport=None, request_options=None)"
      ]
     },
     "execution_count": 9,
     "metadata": {},
     "output_type": "execute_result"
    }
   ],
   "source": [
    "embeddings"
   ]
  },
  {
   "cell_type": "code",
   "execution_count": 10,
   "metadata": {},
   "outputs": [
    {
     "data": {
      "text/plain": [
       "[0.05168594419956207,\n",
       " -0.030764883384108543,\n",
       " -0.03062233328819275,\n",
       " -0.02802734449505806,\n",
       " 0.01813092641532421]"
      ]
     },
     "execution_count": 10,
     "metadata": {},
     "output_type": "execute_result"
    }
   ],
   "source": [
    "vector = embeddings.embed_query(\"hello, world!\")\n",
    "vector[:5]"
   ]
  },
  {
   "cell_type": "code",
   "execution_count": 1,
   "metadata": {},
   "outputs": [],
   "source": [
    "# from langchain.vectorstores import Pinecone\n",
    "from langchain_community.vectorstores import Pinecone\n",
    "import pinecone"
   ]
  },
  {
   "cell_type": "code",
   "execution_count": null,
   "metadata": {},
   "outputs": [],
   "source": [
    "#Initializing the Pinecone\n",
    "vectorstore = PineconeVectorStore(index_name=INDEX_NAME, embedding=embeddings)\n",
    "#Creating Embeddings for Each of The Text Chunks & storing\n",
    "vectorstore.add_documents(text_splits)\n",
    "# docsearch=Pinecone.from_texts([t.page_content for t in text_splits], embeddings, index_name=index_name)\n",
    "# Connect to Pinecone index and insert the chunked docs as contents  docsearch==vector_index     Initialize vectorstore while adding records:\n",
    "# docsearch = PineconeVectorStore.from_documents(all_splits, embeddings, index_name=index_name)"
   ]
  },
  {
   "cell_type": "code",
   "execution_count": 99,
   "metadata": {},
   "outputs": [
    {
     "data": {
      "text/plain": [
       "langchain_pinecone.vectorstores.PineconeVectorStore"
      ]
     },
     "execution_count": 99,
     "metadata": {},
     "output_type": "execute_result"
    }
   ],
   "source": [
    "type(vectorstore)"
   ]
  },
  {
   "cell_type": "code",
   "execution_count": 97,
   "metadata": {},
   "outputs": [
    {
     "data": {
      "text/plain": [
       "['fd413269-7928-43af-8bf1-cbfbfd0040dd',\n",
       " 'fee3110e-14bf-4257-aeb9-c16f79ca66b3']"
      ]
     },
     "execution_count": 97,
     "metadata": {},
     "output_type": "execute_result"
    }
   ],
   "source": [
    "vectorstore.add_documents(text_splits)"
   ]
  },
  {
   "cell_type": "code",
   "execution_count": 11,
   "metadata": {},
   "outputs": [
    {
     "name": "stdout",
     "output_type": "stream",
     "text": [
      "Result [Document(page_content=\"question: What is (are) Allergy ?\\nanswer: An allergy is a reaction by your immune system to something that does not bother most other people. People who have allergies often are sensitive to more than one thing. Substances that often cause reactions are       - Pollen    - Dust mites    - Mold spores    - Pet dander    - Food    - Insect stings    - Medicines       Normally, your immune system fights germs. It is your body's defense system. In most allergic reactions, however, it is responding to a false alarm. Genes and the environment probably both play a role.    Allergies can cause a variety of symptoms such as a runny nose, sneezing, itching, rashes, swelling, or asthma. Allergies can range from minor to severe. Anaphylaxis is a severe reaction that can be life-threatening. Doctors use skin and blood tests to diagnose allergies. Treatments include medicines, allergy shots, and avoiding the substances that cause the reactions.    NIH: National Institute of Allergy and Infectious Diseases\\nfocus_area: Allergy\", metadata={'row': 2097.0, 'source': '/content/medquad.csv', 'start_index': 0.0}), Document(page_content=': 80\\nlabel: allergy\\ntext: My nose runs and I sneeze a lot. My eyes are wet and hurt, and I cough all the time. My head aches constantly.', metadata={'row': 980.0, 'source': '/content/Symptom2Disease.csv', 'start_index': 0.0}), Document(page_content=': 50\\nlabel: allergy\\ntext: I have a runny nose and I am sneezing all the time. My eyes are itchy and often watery, and I am coughing all the time. My head hurts and all the time', metadata={'row': 950.0, 'source': '/content/Symptom2Disease.csv', 'start_index': 0.0})]\n"
     ]
    }
   ],
   "source": [
    "#If we already have an index we can load it like this\n",
    "docsearch=PineconeVectorStore.from_existing_index(INDEX_NAME, embeddings)\n",
    "\n",
    "#initializa and push new embeddings\n",
    "# docsearch = PineconeVectorStore.from_documents(all_splits, embeddings, index_name=index_name)   \n",
    "query = \"What are Allergies\"\n",
    "\n",
    "docs=docsearch.similarity_search(query, k=3)\n",
    "\n",
    "print(\"Result\", docs)"
   ]
  },
  {
   "cell_type": "code",
   "execution_count": 14,
   "metadata": {},
   "outputs": [],
   "source": [
    "# template = \"\"\"You are an assistant for question-answering tasks. Do not mention about context provided in answer but use it to generate answer.\n",
    "# Your task is to diagnose common medical conditions based on user symptoms input. Answer considering the most common medical condition possible.\n",
    "# You will provide suggestions and recommendations for further action. Use the following pieces of retrieved context to answer the question.\n",
    "# Answer in detail with possible medical condition,suggestions and recommendations for further action.\n",
    "\n",
    "# Question: {question}\n",
    "\n",
    "# Context: {context}\n",
    "\n",
    "# Answer:\"\"\"\n",
    "# QA_CHAIN_PROMPT = PromptTemplate.from_template(template)# Run chain\n",
    "# #"
   ]
  },
  {
   "cell_type": "code",
   "execution_count": 12,
   "metadata": {},
   "outputs": [],
   "source": [
    "# Define the prompt template\n",
    "prompt_template = \"\"\"You are an assistant for question-answering tasks.\n",
    "Your task is to diagnose common medical conditions based on user symptoms input, if provided. Answer considering the most common medical condition possible.\n",
    "You will provide suggestions and recommendations for further action. Use the following pieces of retrieved context to answer the question.\n",
    "Answer in detail with possible medical condition,suggestions and recommendations for further action.\n",
    "Do not mention about context provided in answer but use it to generate answer.\n",
    "If user greets, then only greet back with your proper introduction. \n",
    "\n",
    "Question: {question}\n",
    "\n",
    "Context: {context}\n",
    "\n",
    "Answer:\"\"\"\n",
    "PROMPT = PromptTemplate(template=prompt_template, input_variables=[\"context\", \"question\"])\n",
    "chain_type_kwargs = {\"prompt\": PROMPT}\n"
   ]
  },
  {
   "cell_type": "code",
   "execution_count": 13,
   "metadata": {},
   "outputs": [],
   "source": [
    "\n",
    "# Initialize the language model\n",
    "model = ChatGoogleGenerativeAI(\n",
    "    model=\"gemini-1.5-flash\",\n",
    "    # google_api_key=app.config['GOOGLE_API_KEY'],\n",
    "    temperature=0.8,\n",
    "    max_output_tokens=512\n",
    ")\n"
   ]
  },
  {
   "cell_type": "code",
   "execution_count": 14,
   "metadata": {},
   "outputs": [],
   "source": [
    "from langchain.chains import RetrievalQA\n",
    "# Create QA chain\n",
    "qa = RetrievalQA.from_chain_type(\n",
    "    llm=model,\n",
    "    chain_type=\"stuff\",\n",
    "    retriever = docsearch.as_retriever(search_type=\"similarity\", search_kwargs={\"k\": 5}),\n",
    "    return_source_documents=True,\n",
    "    chain_type_kwargs=chain_type_kwargs\n",
    ")"
   ]
  },
  {
   "cell_type": "code",
   "execution_count": 15,
   "metadata": {},
   "outputs": [
    {
     "name": "stdout",
     "output_type": "stream",
     "text": [
      "Requirement already satisfied: textwrap3 in c:\\users\\omkar\\.conda\\envs\\hchat\\lib\\site-packages (0.9.2)\n",
      "Note: you may need to restart the kernel to use updated packages.\n"
     ]
    }
   ],
   "source": [
    "%pip install textwrap3\n"
   ]
  },
  {
   "cell_type": "code",
   "execution_count": 16,
   "metadata": {},
   "outputs": [],
   "source": [
    "from IPython.display import display\n",
    "from IPython.display import Markdown\n",
    "import textwrap\n",
    "\n",
    "def to_markdown(text):\n",
    "  text = text.replace('•', '  *')\n",
    "  return Markdown(textwrap.indent(text, '> ', predicate=lambda _: True))"
   ]
  },
  {
   "cell_type": "code",
   "execution_count": 22,
   "metadata": {},
   "outputs": [
    {
     "data": {
      "text/markdown": [
       "> Response : It sounds like you might be experiencing Chronic Fatigue Syndrome. This condition is characterized by persistent and debilitating fatigue that doesn't improve with rest.  \n",
       "> \n",
       "> Here are some suggestions and recommendations:\n",
       "> \n",
       "> * **See a doctor:** It's crucial to consult a healthcare professional to rule out any underlying medical conditions that could be causing your fatigue. They can perform a physical examination, order blood tests, and potentially recommend further investigations.\n",
       "> * **Gradual exercise:** While it might seem counterintuitive, gentle exercise can actually help improve energy levels in people with Chronic Fatigue Syndrome. Start with short, low-intensity activities and gradually increase the duration and intensity as you feel better.\n",
       "> * **Sleep hygiene:** Make sure you're getting enough quality sleep. Establish a regular sleep schedule, create a relaxing bedtime routine, and avoid caffeine and alcohol before bed.\n",
       "> * **Stress management:** Chronic stress can contribute to fatigue. Explore stress-reducing techniques such as meditation, yoga, or deep breathing exercises.\n",
       "> * **Diet and nutrition:** A healthy diet rich in fruits, vegetables, and whole grains can provide your body with the nutrients it needs to function optimally. Stay hydrated by drinking plenty of water throughout the day.\n",
       "> \n",
       "> Remember, it's important to seek professional medical advice for a proper diagnosis and personalized treatment plan. \n"
      ],
      "text/plain": [
       "<IPython.core.display.Markdown object>"
      ]
     },
     "execution_count": 22,
     "metadata": {},
     "output_type": "execute_result"
    }
   ],
   "source": [
    "\n",
    "user_input=input(f\"Input Prompt:\")\n",
    "result=qa.invoke({\"query\": user_input})\n",
    "to_markdown(\"Response : \"+ result[\"result\"])"
   ]
  },
  {
   "cell_type": "code",
   "execution_count": 23,
   "metadata": {},
   "outputs": [
    {
     "data": {
      "text/markdown": [
       "> Response : It sounds like you might be experiencing Chronic Fatigue Syndrome. This condition is characterized by persistent and debilitating fatigue that doesn't improve with rest.  \n",
       "> \n",
       "> Here are some suggestions and recommendations:\n",
       "> \n",
       "> * **See a doctor:** It's crucial to consult a healthcare professional to rule out any underlying medical conditions that could be causing your fatigue. They can perform a physical examination, order blood tests, and potentially recommend further investigations.\n",
       "> * **Gradual exercise:** While it might seem counterintuitive, gentle exercise can actually help improve energy levels in people with Chronic Fatigue Syndrome. Start with short, low-intensity activities and gradually increase the duration and intensity as you feel better.\n",
       "> * **Sleep hygiene:** Make sure you're getting enough quality sleep. Establish a regular sleep schedule, create a relaxing bedtime routine, and avoid caffeine and alcohol before bed.\n",
       "> * **Stress management:** Chronic stress can contribute to fatigue. Explore stress-reducing techniques such as meditation, yoga, or deep breathing exercises.\n",
       "> * **Diet and nutrition:** A healthy diet rich in fruits, vegetables, and whole grains can provide your body with the nutrients it needs to function optimally. Stay hydrated by drinking plenty of water throughout the day.\n",
       "> \n",
       "> Remember, it's important to seek professional medical advice for a proper diagnosis and personalized treatment plan. \n"
      ],
      "text/plain": [
       "<IPython.core.display.Markdown object>"
      ]
     },
     "execution_count": 23,
     "metadata": {},
     "output_type": "execute_result"
    }
   ],
   "source": [
    "to_markdown(\"Response : \"+ result[\"result\"])"
   ]
  },
  {
   "cell_type": "code",
   "execution_count": 24,
   "metadata": {},
   "outputs": [
    {
     "name": "stdout",
     "output_type": "stream",
     "text": [
      "Response :  : 151\n",
      "label: Chicken pox\n",
      "text: I'm feeling fatigued and have no energy. I can barely keep my eyes open during the day, and I've been feeling lethargic and unable to motivate myself.\n"
     ]
    }
   ],
   "source": [
    "print(\"Response : \", result[\"source_documents\"][0].page_content)"
   ]
  },
  {
   "cell_type": "code",
   "execution_count": 25,
   "metadata": {},
   "outputs": [
    {
     "data": {
      "text/plain": [
       "{'query': 'i feel tired always',\n",
       " 'result': \"It sounds like you might be experiencing Chronic Fatigue Syndrome. This condition is characterized by persistent and debilitating fatigue that doesn't improve with rest.  \\n\\nHere are some suggestions and recommendations:\\n\\n* **See a doctor:** It's crucial to consult a healthcare professional to rule out any underlying medical conditions that could be causing your fatigue. They can perform a physical examination, order blood tests, and potentially recommend further investigations.\\n* **Gradual exercise:** While it might seem counterintuitive, gentle exercise can actually help improve energy levels in people with Chronic Fatigue Syndrome. Start with short, low-intensity activities and gradually increase the duration and intensity as you feel better.\\n* **Sleep hygiene:** Make sure you're getting enough quality sleep. Establish a regular sleep schedule, create a relaxing bedtime routine, and avoid caffeine and alcohol before bed.\\n* **Stress management:** Chronic stress can contribute to fatigue. Explore stress-reducing techniques such as meditation, yoga, or deep breathing exercises.\\n* **Diet and nutrition:** A healthy diet rich in fruits, vegetables, and whole grains can provide your body with the nutrients it needs to function optimally. Stay hydrated by drinking plenty of water throughout the day.\\n\\nRemember, it's important to seek professional medical advice for a proper diagnosis and personalized treatment plan. \\n\",\n",
       " 'source_documents': [Document(page_content=\": 151\\nlabel: Chicken pox\\ntext: I'm feeling fatigued and have no energy. I can barely keep my eyes open during the day, and I've been feeling lethargic and unable to motivate myself.\", metadata={'row': 151.0, 'source': '/content/Symptom2Disease.csv', 'start_index': 0.0}),\n",
       "  Document(page_content=\": 163\\nlabel: Chicken pox\\ntext: I'm feeling fatigued and have no energy. I can barely keep my eyes open during the day, and I've been feeling lethargic and unable to motivate myself.\", metadata={'row': 163.0, 'source': '/content/Symptom2Disease.csv', 'start_index': 0.0}),\n",
       "  Document(page_content='Patient_Problem: I have been feeling very tired lately, even with full sleep.\\nDisease: Chronic Fatigue Syndrome\\nPrescription: Gradual exercise and sleep hygiene improvement.', metadata={'row': 264.0, 'source': '/content/medical_data.csv', 'start_index': 0.0}),\n",
       "  Document(page_content=': 55\\nlabel: allergy\\ntext: I feel tired all the time, I have lost my taste and have a really sore throat. I also get feverish and often have muscle aches. Sometimes my whole body just cramps up', metadata={'row': 955.0, 'source': '/content/Symptom2Disease.csv', 'start_index': 0.0}),\n",
       "  Document(page_content=': 75\\nlabel: allergy\\ntext: I always feel worn out, have unpleasant taste in my mouth, and have a really itchy throat. My muscles are also hot and hurting. Sometimes my whole body just cramps up.', metadata={'row': 975.0, 'source': '/content/Symptom2Disease.csv', 'start_index': 0.0})]}"
      ]
     },
     "execution_count": 25,
     "metadata": {},
     "output_type": "execute_result"
    }
   ],
   "source": [
    "result"
   ]
  },
  {
   "cell_type": "code",
   "execution_count": null,
   "metadata": {},
   "outputs": [],
   "source": []
  }
 ],
 "metadata": {
  "kernelspec": {
   "display_name": "hchat",
   "language": "python",
   "name": "python3"
  },
  "language_info": {
   "codemirror_mode": {
    "name": "ipython",
    "version": 3
   },
   "file_extension": ".py",
   "mimetype": "text/x-python",
   "name": "python",
   "nbconvert_exporter": "python",
   "pygments_lexer": "ipython3",
   "version": "3.9.19"
  }
 },
 "nbformat": 4,
 "nbformat_minor": 2
}
